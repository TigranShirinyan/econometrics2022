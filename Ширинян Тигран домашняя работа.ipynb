{
 "cells": [
  {
   "cell_type": "code",
   "execution_count": null,
   "id": "c5f5409e",
   "metadata": {},
   "outputs": [],
   "source": [
    "import numpy as np\n",
    "import pandas as pd\n",
    "import matplotlib_inline as plt\n",
    "import seaborn as sns\n",
    "%matplotlib inline"
   ]
  },
  {
   "cell_type": "code",
   "execution_count": null,
   "id": "9c4213a9",
   "metadata": {},
   "outputs": [],
   "source": [
    "arr1 = np.array([(1,2,3),(4,5,6),(7,8,9),(10,11,12)]) \n",
    "arr1"
   ]
  },
  {
   "cell_type": "code",
   "execution_count": null,
   "id": "811fd51a",
   "metadata": {},
   "outputs": [],
   "source": [
    "arr2 = np.array([(1,3,5),(2,4,6),(7,9,11),(8,10,12)]) \n",
    "arr2"
   ]
  },
  {
   "cell_type": "code",
   "execution_count": null,
   "id": "b5fcdf7f",
   "metadata": {},
   "outputs": [],
   "source": [
    "arr1[:,1]"
   ]
  },
  {
   "cell_type": "code",
   "execution_count": null,
   "id": "6becf205",
   "metadata": {},
   "outputs": [],
   "source": [
    "arr1[arr1 > 5]"
   ]
  },
  {
   "cell_type": "code",
   "execution_count": null,
   "id": "33050378",
   "metadata": {},
   "outputs": [],
   "source": [
    "arr1[arr1 < 10]"
   ]
  },
  {
   "cell_type": "code",
   "execution_count": null,
   "id": "57b5b690",
   "metadata": {},
   "outputs": [],
   "source": [
    "arr2[arr2 > 5]"
   ]
  },
  {
   "cell_type": "markdown",
   "id": "64406813",
   "metadata": {},
   "source": [
    "## Домашнее задание по Pandas: \n",
    "## Провести анализ множественной регрессии (включение анализа на мультколлениарность и гетероскедастичность - на Ваше усмотрение)"
   ]
  },
  {
   "cell_type": "code",
   "execution_count": null,
   "id": "8ff3bf61",
   "metadata": {},
   "outputs": [],
   "source": [
    "df = pd.read_csv('Cars 1.csv')"
   ]
  },
  {
   "cell_type": "code",
   "execution_count": null,
   "id": "e4c2f8d0",
   "metadata": {},
   "outputs": [],
   "source": [
    "df"
   ]
  },
  {
   "cell_type": "code",
   "execution_count": null,
   "id": "49b1fefc",
   "metadata": {},
   "outputs": [],
   "source": [
    "df.info()"
   ]
  },
  {
   "cell_type": "code",
   "execution_count": null,
   "id": "64374701",
   "metadata": {},
   "outputs": [],
   "source": [
    "df_new = df[[\"Dimensions.Height\", \"Dimensions.Length\", \"Dimensions.Width\", \"Identification.Year\"]]"
   ]
  },
  {
   "cell_type": "code",
   "execution_count": null,
   "id": "5325da21",
   "metadata": {},
   "outputs": [],
   "source": [
    "df_new.describe()"
   ]
  },
  {
   "cell_type": "code",
   "execution_count": null,
   "id": "62548870",
   "metadata": {},
   "outputs": [],
   "source": [
    "sns.pairplot(data= df_new, hue = 'Identification.Year')"
   ]
  }
 ],
 "metadata": {
  "kernelspec": {
   "display_name": "Python 3 (ipykernel)",
   "language": "python",
   "name": "python3"
  },
  "language_info": {
   "codemirror_mode": {
    "name": "ipython",
    "version": 3
   },
   "file_extension": ".py",
   "mimetype": "text/x-python",
   "name": "python",
   "nbconvert_exporter": "python",
   "pygments_lexer": "ipython3",
   "version": "3.9.7"
  }
 },
 "nbformat": 4,
 "nbformat_minor": 5
}
